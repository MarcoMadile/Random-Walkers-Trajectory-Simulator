{
 "cells": [
  {
   "cell_type": "code",
   "execution_count": 94,
   "metadata": {},
   "outputs": [],
   "source": [
    "import cupy as cp\n",
    "import cupyx as cpx\n",
    "from matplotlib import pyplot as plt\n",
    "import networkx as nx\n",
    "import numpy as np"
   ]
  },
  {
   "cell_type": "code",
   "execution_count": 190,
   "metadata": {},
   "outputs": [],
   "source": [
    "\n",
    "\n",
    "\n",
    "class Individual:\n",
    "    def __init__(self, initial_position, waiting_time_dist, step_size_dist):\n",
    "        self.ini_position = cp.array(initial_position)\n",
    "        self.waiting_time_hist = waiting_time_dist[0]/cp.sum(waiting_time_dist[0])\n",
    "        self.waiting_time_edges = (waiting_time_dist[1][:-1]+waiting_time_dist[1][1:])/2\n",
    "        self.waiting_time_mean =  cp.sum(self.waiting_time_edges * self.waiting_time_hist)\n",
    "        self.step_size_hist = step_size_dist[0]/cp.sum(step_size_dist[0])\n",
    "        self.step_size_edges = (step_size_dist[1][:-1]+step_size_dist[1][1:])/2\n",
    "        self.time = 0\n",
    "        self.positions= [self.ini_position]\n",
    "\n",
    "\n",
    "    def generate_waiting_time(self,size_=1):\n",
    "        # Generate a random waiting time based on the waiting_time_dist\n",
    "        # Replace the function below with your desired waiting time distribution function\n",
    "        return cp.random.choice(self.waiting_time_edges,size=size_, p=self.waiting_time_hist)\n",
    "\n",
    "    def generate_step_size(self,size_=1):\n",
    "        # Generate a random step size based on the step_size_dist\n",
    "        # Replace the function below with your desired step size distribution function\n",
    "        return cp.random.choice(self.step_size_edges,size=size_, p=self.step_size_hist)\n",
    "\n",
    "    def move(self,time):\n",
    "        # Generate a random direction\n",
    "        positions= cp.zeros((2,time))\n",
    "        # get mean of waiting time distribution \n",
    "        posible_size_w_t = int(2*time/self.waiting_time_mean)  \n",
    "        waiting_time= self.generate_waiting_time(size_=posible_size_w_t)                                              \n",
    "        while cp.sum(waiting_time)<=time: \n",
    "            waiting_time = cp.hstack((waiting_time,self.generate_waiting_time(size_=posible_size_w_t)))\n",
    "        cumulative_sum = cp.cumsum(waiting_time)\n",
    "        index = cp.where(cumulative_sum > time)[0][0]\n",
    "        filtered_waiting_time = waiting_time[:index]\n",
    "        step_size = self.generate_step_size(size_=len(filtered_waiting_time))\n",
    "        theta = cp.random.uniform(0, 2 * cp.pi,size=len(filtered_waiting_time))\n",
    "        direction = [cp.cos(theta), cp.sin(theta)]\n",
    "        # Update position based on this simple model where individual stays still for each waiting time (updating positions with the actual position) and when the waiting time finishes move with step size in direction. \n",
    "        filtered_waiting_time = filtered_waiting_time.astype(int)\n",
    "        # check if it has 0 in the waiting time \n",
    "                \n",
    "        filtered_waiting_time[filtered_waiting_time == 0] += 1\n",
    "        # Generate movements for each waiting time\n",
    "        movements = step_size[:, cp.newaxis] * cp.array(direction).T\n",
    "        # Repeat each movement for the corresponding waiting time\n",
    "        repeated_movements = cp.repeat(movements, filtered_waiting_time.tolist(), axis=0)\n",
    "        # add initial position to repeated_movements\n",
    "        repeated_movements = cp.vstack((self.ini_position,repeated_movements))\n",
    "        # Calculate positions\n",
    "        positions = cp.cumsum(repeated_movements, axis=0)[:time]\n",
    "        # Update positions\n",
    "        self.positions=positions    \n",
    "\n",
    "\n",
    "## Ensemble of individuals\n",
    "class Ensemble:\n",
    "    def __init__(self, n, initial_positions, waiting_time_dist, step_size_dist):\n",
    "        self.n = n\n",
    "        self.ini_positions= cp.array(initial_positions)\n",
    "        self.waiting_time_hist = waiting_time_dist[0]/cp.sum(waiting_time_dist[0])\n",
    "        self.waiting_time_edges = (waiting_time_dist[1][:-1]+waiting_time_dist[1][1:])/2\n",
    "        self.waiting_time_mean =  cp.sum(self.waiting_time_edges * self.waiting_time_hist)\n",
    "        self.step_size_hist = step_size_dist[0]/cp.sum(step_size_dist[0])\n",
    "        self.step_size_edges = (step_size_dist[1][:-1]+step_size_dist[1][1:])/2\n",
    "        self.time = 0\n",
    "        self.positions = cp.copy(self.ini_positions)\n",
    "\n",
    "\n",
    "    def generate_waiting_time(self,size_=1):\n",
    "        # Generate a random waiting time based on the waiting_time_dist\n",
    "        # Replace the function below with your desired waiting time distribution function\n",
    "        return cp.random.choice(self.waiting_time_edges,size=size_, p=self.waiting_time_hist)\n",
    "\n",
    "    def generate_step_size(self,size_=1):\n",
    "        # Generate a random step size based on the step_size_dist\n",
    "        # Replace the function below with your desired step size distribution function\n",
    "        return cp.random.choice(self.step_size_edges,size=size_, p=self.step_size_hist)\n",
    "\n",
    "\n",
    "    def move(self, time):\n",
    "        # Generate random directions, step sizes, and waiting times for all individuals at once\n",
    "        posible_size_w_t = cp.int(4*time/self.waiting_time_mean) \n",
    "        thetas = cp.random.uniform(0, 2 * cp.pi, size=(self.n, posible_size_w_t))\n",
    "\n",
    "        directions = cp.array([cp.cos(thetas), cp.sin(thetas)])\n",
    "\n",
    "        step_sizes = self.generate_step_size(size_=(self.n, posible_size_w_t))\n",
    "\n",
    "        waiting_times = self.generate_waiting_time(size_=(self.n, posible_size_w_t))\n",
    "        waiting_times[waiting_times == 0] += 1\n",
    "       # cumulative_sums = cp.cumsum(waiting_times, axis=1)\n",
    "      #  mask = cumulative_sums <= time\n",
    "       # filtered_waiting_times = cp.where(mask, waiting_times, 0)\n",
    "        # Update positions based on this simple model where individuals stay still for each waiting time (updating positions with the actual position) and when the waiting time finishes move with step size in direction.\n",
    "        result_movements = step_sizes.T[:, :, cp.newaxis] * directions.T\n",
    "        # result_movements[i,j,k]= eje i (i=0 es x,i=1 es y ), individuo j, paso k \n",
    "        reshaped_result_movements = result_movements.reshape(( self.n, posible_size_w_t,2))\n",
    "        # now result_movements[i,j,k]=  individuo , paso j, eje k \n",
    "\n",
    "        #now we use numpy functions once calculated all the movements\n",
    "        reshaped_result_movements_np = cp.asnumpy(reshaped_result_movements)\n",
    "        waiting_times_np = cp.asnumpy(waiting_times).astype(int)\n",
    "        ensamble_positions = []\n",
    "        for i in range(self.n):\n",
    "            repeated_movements_individual = np.repeat(reshaped_result_movements_np[i], waiting_times_np[i], axis=0)\n",
    "            where_are_equal = np.equal(repeated_movements_individual[1:,0],repeated_movements_individual[:-1,0])\n",
    "            changes_in_positions= np.where(where_are_equal[:,np.newaxis],np.zeros(repeated_movements_individual.shape)[1:],repeated_movements_individual[1:])\n",
    "            positions= np.cumsum(changes_in_positions, axis=0)[:time]\n",
    "            ensamble_positions.append(positions)\n",
    "        self.positions = cp.array(ensamble_positions)"
   ]
  },
  {
   "cell_type": "code",
   "execution_count": 194,
   "metadata": {},
   "outputs": [
    {
     "name": "stdout",
     "output_type": "stream",
     "text": [
      "Tiempo GPU:  1.5 s for N =  30000\n"
     ]
    }
   ],
   "source": [
    "# Generate random numbers from an exponential distribution\n",
    "data = cp.random.exponential(scale=1, size=1000)\n",
    "# Create a histogram of the data\n",
    "hist, bin_edges = cp.histogram(data, bins=10, density=True)\n",
    "#ind = Individual(initial_position=[0,0],waiting_time_dist=[hist,bin_edges],step_size_dist=[hist,bin_edges])\n",
    "time = 2*60\n",
    "#ind.move(time=time)\n",
    "n_ind= 30000\n",
    "initial_positions= cp.zeros((n_ind,2))\n",
    "\n",
    "population= Ensemble(n_ind,initial_positions,waiting_time_dist=[hist,bin_edges],step_size_dist=[hist,bin_edges])\n",
    "start_gpu = cp.cuda.Event()\n",
    "start_gpu.record()\n",
    "ensamble_positions = population.move(time) \n",
    "\n",
    "end_gpu = cp.cuda.Event()\n",
    "end_gpu.record()\n",
    "end_gpu.synchronize()\n",
    "t_gpu = cp.cuda.get_elapsed_time(start_gpu, end_gpu)\n",
    "print(\"Tiempo GPU: \", round(t_gpu/1000,1),\"s for N = \",n_ind)"
   ]
  },
  {
   "cell_type": "code",
   "execution_count": 200,
   "metadata": {},
   "outputs": [
    {
     "name": "stdout",
     "output_type": "stream",
     "text": [
      "Tiempo GPU:  9.0 s for N =  1 and T =  1000000\n"
     ]
    }
   ],
   "source": [
    "time_one_ind= 1000000\n",
    "ind_ = Individual(initial_position=[0,0],waiting_time_dist=[hist,bin_edges],step_size_dist=[hist,bin_edges])\n",
    "start_gpu = cp.cuda.Event()\n",
    "start_gpu.record()\n",
    "ind_.move(time=time_one_ind)\n",
    "end_gpu = cp.cuda.Event()\n",
    "end_gpu.record()\n",
    "end_gpu.synchronize()\n",
    "t_gpu = cp.cuda.get_elapsed_time(start_gpu, end_gpu)\n",
    "print(\"Tiempo GPU: \", round(t_gpu/1000,1),\"s for N = \",1, \"and T = \",time_one_ind)\n"
   ]
  },
  {
   "cell_type": "code",
   "execution_count": 89,
   "metadata": {},
   "outputs": [
    {
     "data": {
      "text/plain": [
       "(530, 50, 2)"
      ]
     },
     "execution_count": 89,
     "metadata": {},
     "output_type": "execute_result"
    }
   ],
   "source": [
    "ensamble_positions_np.shape\n"
   ]
  },
  {
   "cell_type": "code",
   "execution_count": 90,
   "metadata": {},
   "outputs": [],
   "source": [
    "import concurrent.futures\n",
    "\n",
    "def process_individual(i):\n",
    "    repeated_movements_individual = np.repeat(reshaped_movements_np[i], filtered_waiting_t_np[i], axis=0)\n",
    "    where_are_equal = np.equal(repeated_movements_individual[1:,0],repeated_movements_individual[:-1,0])\n",
    "    changes_in_positions= np.where(where_are_equal[:,np.newaxis],np.zeros(repeated_movements_individual.shape)[1:],repeated_movements_individual[1:])\n",
    "    positions= np.cumsum(changes_in_positions, axis=0)[:50]\n",
    "    return positions\n",
    "\n",
    "with concurrent.futures.ThreadPoolExecutor() as executor:\n",
    "    ensamble_positions = list(executor.map(process_individual, range(n_ind)))\n",
    "\n",
    "ensamble_positions_np = np.array(ensamble_positions)\n"
   ]
  },
  {
   "cell_type": "code",
   "execution_count": 93,
   "metadata": {},
   "outputs": [
    {
     "data": {
      "text/plain": [
       "(530, 50, 2)"
      ]
     },
     "execution_count": 93,
     "metadata": {},
     "output_type": "execute_result"
    }
   ],
   "source": [
    "ensamble_positions_np.shape"
   ]
  },
  {
   "cell_type": "code",
   "execution_count": null,
   "metadata": {},
   "outputs": [],
   "source": []
  }
 ],
 "metadata": {
  "kernelspec": {
   "display_name": "CUDA",
   "language": "python",
   "name": "python3"
  },
  "language_info": {
   "codemirror_mode": {
    "name": "ipython",
    "version": 3
   },
   "file_extension": ".py",
   "mimetype": "text/x-python",
   "name": "python",
   "nbconvert_exporter": "python",
   "pygments_lexer": "ipython3",
   "version": "3.9.16"
  },
  "orig_nbformat": 4
 },
 "nbformat": 4,
 "nbformat_minor": 2
}
